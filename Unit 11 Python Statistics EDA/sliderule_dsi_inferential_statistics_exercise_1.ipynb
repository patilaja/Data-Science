{
 "cells": [
  {
   "cell_type": "markdown",
   "metadata": {},
   "source": [
    "# What is the True Normal Human Body Temperature? \n",
    "\n",
    "#### Background\n",
    "\n",
    "The mean normal body temperature was held to be 37$^{\\circ}$C or 98.6$^{\\circ}$F for more than 120 years since it was first conceptualized and reported by Carl Wunderlich in a famous 1868 book. But, is this value statistically correct?"
   ]
  },
  {
   "cell_type": "code",
   "execution_count": 18,
   "metadata": {},
   "outputs": [
    {
     "name": "stdout",
     "output_type": "stream",
     "text": [
      "ALL:         temperature  heart_rate\n",
      "count   130.000000  130.000000\n",
      "mean     98.249231   73.761538\n",
      "std       0.733183    7.062077\n",
      "min      96.300000   57.000000\n",
      "25%      97.800000   69.000000\n",
      "50%      98.300000   74.000000\n",
      "75%      98.700000   79.000000\n",
      "max     100.800000   89.000000\n",
      "Male:         temperature  heart_rate\n",
      "count    65.000000   65.000000\n",
      "mean     98.104615   73.369231\n",
      "std       0.698756    5.875184\n",
      "min      96.300000   58.000000\n",
      "25%      97.600000   70.000000\n",
      "50%      98.100000   73.000000\n",
      "75%      98.600000   78.000000\n",
      "max      99.500000   86.000000\n",
      "Female:         temperature  heart_rate\n",
      "count    65.000000   65.000000\n",
      "mean     98.393846   74.153846\n",
      "std       0.743488    8.105227\n",
      "min      96.400000   57.000000\n",
      "25%      98.000000   68.000000\n",
      "50%      98.400000   76.000000\n",
      "75%      98.800000   80.000000\n",
      "max     100.800000   89.000000\n"
     ]
    },
    {
     "data": {
      "image/png": "[encoded data removed]",
      "text/plain": [
       "<matplotlib.figure.Figure at 0x5b59e30>"
      ]
     },
     "metadata": {},
     "output_type": "display_data"
    },
    {
     "data": {
      "image/png": "[encoded data removed]",
      "text/plain": [
       "<matplotlib.figure.Figure at 0x84aff10>"
      ]
     },
     "metadata": {},
     "output_type": "display_data"
    }
   ],
   "source": [
    "%matplotlib inline\n",
    "import pandas as pd\n",
    "import matplotlib.pyplot as plt\n",
    "import seaborn as sns\n",
    "\n",
    "# import the data as a panda dataframe\n",
    "df = pd.read_csv('data/human_body_temperature.csv')\n",
    "\n",
    "# assign a subset as male and female dataframes\n",
    "dfMale=df[df.gender=='M']\n",
    "dfFemale=df[df.gender=='F']\n",
    "\n",
    "# create a distribution plot via seaborn, ensure correct version of statsmodels=0.8.0\n",
    "sns.distplot(df.temperature)\n",
    "\n",
    "# create a scatterplot of male and female temperature vs heart rate in one chart\n",
    "ax=dfMale.plot(kind='scatter', x='temperature', y='heart_rate', color='Blue', label='Male')\n",
    "dfFemale.plot(kind='scatter', x='temperature', y='heart_rate', color='Green', label='Female', ax=ax )\n",
    "\n",
    "print(\"ALL: \", df.describe())\n",
    "print(\"Male: \", dfMale.describe())\n",
    "print(\"Female: \", dfFemale.describe())\n",
    " "
   ]
  },
  {
   "cell_type": "code",
   "execution_count": 3,
   "metadata": {},
   "outputs": [
    {
     "name": "stdout",
     "output_type": "stream",
     "text": [
      "Normal distribution\n",
      "Sample size is large\n"
     ]
    }
   ],
   "source": [
    "import matplotlib.pyplot as plt\n",
    "import scipy.stats as stats\n",
    "\n",
    "\n",
    "pval = (stats.normaltest(df['temperature']))[1]\n",
    "#print(pval)\n",
    "if(pval < 0.05):\n",
    "    print (\"Not normal distribution\")\n",
    "else:\n",
    "    print (\"Normal distribution\")\n",
    "\n",
    "    '''Necessary Sample Size = (Z-score)2 * StdDev*(1-StdDev) / (margin of error)2\n",
    "    \n",
    "Here is how the math works assuming you chose a 95% confidence level, \n",
    ".5 standard deviation, and a margin of error (confidence interval) of +/- 5%.\n",
    "\n",
    "((1.96)2 x .5(.5)) / (.05)2\n",
    "(3.8416 x .25) / .0025\n",
    ".9604 / .0025\n",
    "384.16\n",
    "385 respondents are needed'''\n",
    "\n",
    "if df.shape[0] >= 30:\n",
    "    print (\"Sample size is large\")\n",
    "else:\n",
    "    print (\"Sample size is NOT large\")\n",
    "\n",
    "    ''' the occurrence of one observation provides no information about the occurrence of the other observation.\n",
    "        Observations don't affect the probability for future observations.\n",
    "     unrelated observations\n",
    "    '''"
   ]
  },
  {
   "cell_type": "code",
   "execution_count": 4,
   "metadata": {},
   "outputs": [
    {
     "name": "stdout",
     "output_type": "stream",
     "text": [
      "Male vs Female temperature: (ttest, p-value, df)= (-2.2854345381654984, 0.02393188312240236, 128.0)\n",
      "Male vs Female heart beat: (ttest, p-value, df)= (-0.6319061024739937, 0.52857523970651132, 128.0)\n",
      "(ztest, p-value)= (-5.4548232923645195, 4.9021570141012155e-08)\n",
      "CI tconfint= (98.122002905608028, 98.376458632853499)\n",
      "margin_of_error: 0.126034341049\n"
     ]
    }
   ],
   "source": [
    "from statsmodels.stats.weightstats import DescrStatsW, ttest_ind, ztest\n",
    "import numpy as np\n",
    "import pandas as pd\n",
    "import scipy.stats as stats\n",
    "import matplotlib.pyplot as plt\n",
    "import random\n",
    "import math\n",
    "\n",
    "print('Male vs Female temperature: (ttest, p-value, df)=', \\\n",
    "      ttest_ind(dfMale.temperature, dfFemale.temperature, alternative='two-sided'))\n",
    "print('Male vs Female heart beat: (ttest, p-value, df)=', \\\n",
    "      ttest_ind(dfMale.heart_rate, dfFemale.heart_rate, alternative='two-sided'))\n",
    "print('(ztest, p-value)=', ztest(df['temperature'], value=98.6, alternative='two-sided'))\n",
    "print('CI tconfint=', DescrStatsW(df['temperature']).tconfint_mean())\n",
    "\n",
    "z_critical = stats.norm.ppf(q = 0.975)  # Get the z-critical value*\n",
    "sample_size= df.shape[0] \n",
    "sample_mean= df['temperature'].mean()\n",
    "pop_stdev = df['temperature'].std()  # Get the population standard deviation\n",
    "\n",
    "margin_of_error = z_critical * (pop_stdev/math.sqrt(sample_size))\n",
    "\n",
    "confidence_interval = (sample_mean - margin_of_error, sample_mean + margin_of_error)  \n",
    "\n",
    "print(\"margin_of_error:\", margin_of_error)\n"
   ]
  },
  {
   "cell_type": "code",
   "execution_count": 5,
   "metadata": {},
   "outputs": [
    {
     "name": "stdout",
     "output_type": "stream",
     "text": [
      "cohens D: male vs female\n",
      "(temperature)\n",
      "small effect\n",
      "0.40089173786\n",
      "(heart_beat)\n",
      "no effect\n",
      "0.110843662925\n"
     ]
    }
   ],
   "source": [
    "import numpy as np\n",
    "def cohens_d(x, y):\n",
    "    lx = len(x)- 1\n",
    "    ly = len(y)- 1\n",
    "    md  = np.abs(x.mean() - y.mean())        ## mean difference (numerator)\n",
    "    csd = lx * x.var() + ly * y.var()\n",
    "    csd = csd/(lx + ly)\n",
    "    #print(md)\n",
    "    csd = np.sqrt(csd)                    ## common sd computation\n",
    "\n",
    "    return md/csd                        ## cohen's d\n",
    "\n",
    "def printCohen(x):\n",
    "    if x >= .80:\n",
    "        print(\"large effect\")\n",
    "    elif x >= .50:\n",
    "        print(\"medium effect\")\n",
    "    elif x >= .20:\n",
    "        print(\"small effect\")\n",
    "    else: print(\"no effect\")    \n",
    "    return x\n",
    "\n",
    "cd=cohens_d(dfMale,dfFemale)\n",
    "print(\"cohens D: male vs female\")\n",
    "print(\"(temperature)\")\n",
    "print(printCohen(cd[0]))\n",
    "print(\"(heart_beat)\")\n",
    "print(printCohen(cd[1]))\n"
   ]
  },
  {
   "cell_type": "code",
   "execution_count": null,
   "metadata": {
    "collapsed": true
   },
   "outputs": [],
   "source": []
  },
  {
   "cell_type": "markdown",
   "metadata": {},
   "source": [
    "<div class=\"span5 alert alert-info\">\n",
    "<h3>ANSWERS</h3>\n",
    "\n",
    "\n",
    "<ol>\n",
    "<li>  Is the distribution of body temperatures normal? <b> Yes, by looking that the distribution plot and test of normality, the distribution of body temperatures is normal (bell-curved).</b>\n",
    "    <ul>\n",
    "    <li> Although this is not a requirement for CLT to hold (read CLT carefully), it gives us some peace of mind that the population may also be normally distributed if we assume that this sample is representative of the population.\n",
    "    </ul>\n",
    "<li>  Is the sample size large? Are the observations independent?  <b>Yes, it is a large sample size since samples is more than 30. </b>\n",
    "    <ul>\n",
    "    <li> Remember that this is a condition for the CLT, and hence the statistical tests we are using, to apply.\n",
    "    </ul>\n",
    "<li>  Is the true population mean really 98.6 degrees F?  <b>No, the population mean is different to 98.6 degrees F with high significance </b>\n",
    "    <ul>\n",
    "    <li> Would you use a one-sample or two-sample test? Why? <b>I used one-sample test since I am comparing one sample group and test if the average is different to 98.6.</b>\n",
    "    <li> In this situation, is it appropriate to use the $t$ or $z$ statistic?  <b>t-statistic because the population variance is not known</b>\n",
    "    <li> Now try using the other test. How is the result be different? Why?  <b>Using both ztest and ttest has the same result because the sample size is large (> 30).</b>\n",
    "    </ul>\n",
    "<li>  At what temperature should we consider someone's temperature to be \"abnormal\"?  <b>Abnormal temperature is less than 98.12 and more than 98.37. </b>\n",
    "    <ul>\n",
    "    <li> Start by computing the margin of error and confidence interval.  <b>Margin of error is .12 and confidence interval is (98.12, 98.37)</b>\n",
    "    </ul>\n",
    "<li>  Is there a significant difference between males and females in normal temperature?  <b>Yes, there is a difference between Male temperature against female temperature. However, there is a small effect as shown by cohen's D ratio=.4 (small diff)</b>\n",
    "    <ul>\n",
    "    <li> What test did you use and why?  <b>I used t-test to compare male and female temperature and it is different at 98% level of significance </b>\n",
    "    <li> Write a story with your conclusion in the context of the original problem.\n",
    "    <h2> The Truth about 98.6<sup>o</sup>F</h2>\n",
    "    <li> A study in 1992 shows that \"normal\" body temperature is not 98.6<sup>o</sup>F\n",
    "    <li> Women are hotter than men \n",
    "    <li> Men and women have similar heart rate\n",
    "    </ul>\n",
    "    <ul>\n",
    "    We have known to believed that normal body temperature is 98.6<sup>o</sup>F. Sometimes when you think you are not feeling well then check your temperature is not 98.6<sup>o</sup>F, then you confirms your thinking that your are really sick.  But in fact, this is not the truth.</ul> \n",
    "    <ul> A study in 1992 shows that the average human temperature is 98.2<sup>o</sup>F rather than 98.6<sup>o</sup>F. It was published at the Journal of American Medical Association with 130 respondents equally divided into male and female. The same study also showed that women are warmer than men.  Women on that study has an average body temperature of 98.4 versus 98.10 for men.  This debunks the common belief and many articles that says men are hotter than women [see article below].  \n",
    "    </ul>\n",
    "    <ul> So next time on your doctor visit and your body temperature reads than 98.2<sup>o</sup>F, then you need not be alarmed and you are normal.\n",
    "    </ul>\n",
    "</ol>\n",
    " \n",
    "#### Resources\n",
    "\n",
    "<li> Data source: http://www.amstat.org/publications/jse/datasets/normtemp.txt \n",
    "<li> Statsmodels: http://www.statsmodels.org/stable/stats.html\n",
    "<li> Article: http://www.glamour.com/story/theres-a-scientific-reason-women-are-always-colder-than-men\n",
    "****"
   ]
  }
 ],
 "metadata": {
  "kernelspec": {
   "display_name": "Python 3",
   "language": "python",
   "name": "python3"
  },
  "language_info": {
   "codemirror_mode": {
    "name": "ipython",
    "version": 3
   },
   "file_extension": ".py",
   "mimetype": "text/x-python",
   "name": "python",
   "nbconvert_exporter": "python",
   "pygments_lexer": "ipython3",
   "version": "3.5.3"
  }
 },
 "nbformat": 4,
 "nbformat_minor": 1
}
